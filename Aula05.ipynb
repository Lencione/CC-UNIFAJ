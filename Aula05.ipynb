{
  "nbformat": 4,
  "nbformat_minor": 0,
  "metadata": {
    "colab": {
      "provenance": [],
      "authorship_tag": "ABX9TyPGXJj6w0OKANGYdQnCk0WH",
      "include_colab_link": true
    },
    "kernelspec": {
      "name": "python3",
      "display_name": "Python 3"
    },
    "language_info": {
      "name": "python"
    }
  },
  "cells": [
    {
      "cell_type": "markdown",
      "metadata": {
        "id": "view-in-github",
        "colab_type": "text"
      },
      "source": [
        "<a href=\"https://colab.research.google.com/github/Lencione/CC-UNIFAJ/blob/main/Aula05.ipynb\" target=\"_parent\"><img src=\"https://colab.research.google.com/assets/colab-badge.svg\" alt=\"Open In Colab\"/></a>"
      ]
    },
    {
      "cell_type": "markdown",
      "source": [
        "Exercicio 1"
      ],
      "metadata": {
        "id": "3Spd_TjRN86H"
      }
    },
    {
      "cell_type": "code",
      "source": [
        "lista = [5, 7, 2, 9, 4, 1, 3]\n",
        "print(f\"Tamanho: {len(lista)}\")\n",
        "print(f\"Max: {max(lista)}\")\n",
        "print(f\"Min: {min(lista)}\")\n",
        "print(f\"Soma: {sum(lista)}\")\n",
        "\n",
        "lista.sort()\n",
        "for x in lista:\n",
        "    print(x, end=\" \")\n",
        "else:\n",
        "    print()\n",
        "\n",
        "lista.sort(reverse=True)\n",
        "for x in lista:\n",
        "    print(x, end=\" \")\n"
      ],
      "metadata": {
        "id": "QZjF6ybnLTUt"
      },
      "execution_count": null,
      "outputs": []
    },
    {
      "cell_type": "markdown",
      "source": [],
      "metadata": {
        "id": "TlvTbXTyLSQ3"
      }
    },
    {
      "cell_type": "markdown",
      "source": [
        "Exercicio 2"
      ],
      "metadata": {
        "id": "NJed9_L0OAym"
      }
    },
    {
      "cell_type": "code",
      "source": [
        "notas = [['Maria', 4.5, 7.1], ['Pedro', 6.6, 8.5], ['Paulo', 5.0, 5.5]]\n",
        "\n",
        "for item in notas:\n",
        "    print(f\"{item[0]}: {(item[1]+item[2])/2}\")"
      ],
      "metadata": {
        "colab": {
          "base_uri": "https://localhost:8080/"
        },
        "id": "2Y-1WDjNOB3u",
        "outputId": "efe0eb27-4793-4f2c-dc7d-3a11abaabb5d"
      },
      "execution_count": null,
      "outputs": [
        {
          "output_type": "stream",
          "name": "stdout",
          "text": [
            "Maria: 5.8\n",
            "Pedro: 7.55\n",
            "Paulo: 5.25\n"
          ]
        }
      ]
    },
    {
      "cell_type": "markdown",
      "source": [
        "Exercicio 3"
      ],
      "metadata": {
        "id": "pyBK3On4RLq5"
      }
    },
    {
      "cell_type": "code",
      "source": [
        "temp = list()\n",
        "for i in range(7):\n",
        "    temp.append(float(input()))\n",
        "\n",
        "print(f\"{sum(temp)/7:.2f}\")"
      ],
      "metadata": {
        "id": "SMwrRuFARMhw"
      },
      "execution_count": null,
      "outputs": []
    },
    {
      "cell_type": "markdown",
      "source": [
        "Exercicio 4"
      ],
      "metadata": {
        "id": "tuTWKUAvRn5R"
      }
    },
    {
      "cell_type": "code",
      "source": [
        "signos = [\n",
        "    [0, 'Macaco'],\n",
        "    [1, 'Galo'],\n",
        "    [2, 'Cão'],\n",
        "    [3, 'Porco'],\n",
        "    [4, 'Rato'],\n",
        "    [5, 'Boi'],\n",
        "    [6, 'Tigre'],\n",
        "    [7, 'Coelho'],\n",
        "    [8, 'Dragão'],\n",
        "    [9, 'Serpente'],\n",
        "    [10, 'Cavalo'],\n",
        "    [11, 'Carneiro'],\n",
        "]\n",
        "\n",
        "year = int(input())\n",
        "year = year % 12\n",
        "\n",
        "print(signos[year])"
      ],
      "metadata": {
        "colab": {
          "base_uri": "https://localhost:8080/"
        },
        "id": "b7oNAebhRpWP",
        "outputId": "42d8309b-8243-4265-c176-0b002fc99fd1"
      },
      "execution_count": null,
      "outputs": [
        {
          "output_type": "stream",
          "name": "stdout",
          "text": [
            "1992\n",
            "[0, 'Macaco']\n"
          ]
        }
      ]
    },
    {
      "cell_type": "markdown",
      "source": [
        "Exercicio 5"
      ],
      "metadata": {
        "id": "nA4KdMLX79j3"
      }
    },
    {
      "cell_type": "code",
      "source": [
        "nums = list();\n",
        "for i in range(10):\n",
        "    nums.append(int(input())) \n",
        "\n",
        "impar = list(filter(lambda x: (x % 2 == 1), nums))\n",
        "par = list(filter(lambda x: (x % 2 == 0), nums))\n",
        "\n",
        "\n",
        "print(list(impar))\n",
        "print(list(par))\n",
        "\n"
      ],
      "metadata": {
        "id": "uA8x8lhIRwdf"
      },
      "execution_count": null,
      "outputs": []
    },
    {
      "cell_type": "markdown",
      "source": [
        "Exercicio 6"
      ],
      "metadata": {
        "id": "T9HchWgx9Qog"
      }
    },
    {
      "cell_type": "code",
      "source": [
        "x = [2,9,1,5]\n",
        "i = 1\n",
        "j = 2\n",
        "x[i] = j * 2 - x[j] ** 2\n",
        "print(x)"
      ],
      "metadata": {
        "id": "I39e-GKj9TSB"
      },
      "execution_count": null,
      "outputs": []
    },
    {
      "cell_type": "markdown",
      "source": [
        "Exercicio 7"
      ],
      "metadata": {
        "id": "9VulrGib9mV4"
      }
    },
    {
      "cell_type": "code",
      "source": [
        "candidatos = ['José', 'João', 'Cibelly', 'Sonivaldo', 'Dariane']\n",
        "candidatos.insert(0,'Wesley')\n",
        "print(candidatos)\n",
        "\n",
        "#Somente alternativa d é correta"
      ],
      "metadata": {
        "id": "AAfsOGsY9ngJ"
      },
      "execution_count": null,
      "outputs": []
    },
    {
      "cell_type": "markdown",
      "source": [
        "Exercicio 8"
      ],
      "metadata": {
        "id": "U3ocWtp8-kV5"
      }
    },
    {
      "cell_type": "code",
      "source": [
        "x = [1,1,2,3,5,8,13]\n",
        "x[x[0]] = x[-1]\n",
        "print(x)\n",
        "\n",
        "#[1, 13, 2, 3, 5, 8, 13] saída"
      ],
      "metadata": {
        "id": "XrzPsjhq-lPZ"
      },
      "execution_count": null,
      "outputs": []
    },
    {
      "cell_type": "markdown",
      "source": [
        "Exercicio 9"
      ],
      "metadata": {
        "id": "FlkiH3Sw-1wx"
      }
    },
    {
      "cell_type": "code",
      "source": [
        "notas = list()\n",
        "\n",
        "for i in range(3):\n",
        "    nota = list()\n",
        "    nota.append(input())\n",
        "    nota.append(float(input()))\n",
        "    nota.append(float(input()))\n",
        "    notas.append(nota)\n",
        "\n",
        "print(notas)\n",
        "    \n"
      ],
      "metadata": {
        "id": "nsTxJri5-3BR"
      },
      "execution_count": null,
      "outputs": []
    },
    {
      "cell_type": "markdown",
      "source": [
        "Exercicio 10"
      ],
      "metadata": {
        "id": "_fnK4ZTJAcNU"
      }
    },
    {
      "cell_type": "code",
      "source": [
        "from collections import Counter\n",
        "\n",
        "lista = [1,1,6,6,7,7,7,7,1,1,1]\n",
        "\n",
        "resp = Counter(lista)\n",
        "\n",
        "print(max(resp.values()))"
      ],
      "metadata": {
        "colab": {
          "base_uri": "https://localhost:8080/"
        },
        "id": "2Yp2uBZTAdKE",
        "outputId": "5b25e7b6-dd4e-4412-ec88-b44cce0c6e1c"
      },
      "execution_count": null,
      "outputs": [
        {
          "output_type": "stream",
          "name": "stdout",
          "text": [
            "5\n"
          ]
        }
      ]
    }
  ]
}