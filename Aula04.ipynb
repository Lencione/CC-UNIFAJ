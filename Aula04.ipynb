{
  "nbformat": 4,
  "nbformat_minor": 0,
  "metadata": {
    "colab": {
      "name": "Aula04.ipynb",
      "provenance": [],
      "authorship_tag": "ABX9TyMWeSuy+BtQSzUpjPQwV9wL",
      "include_colab_link": true
    },
    "kernelspec": {
      "name": "python3",
      "display_name": "Python 3"
    },
    "language_info": {
      "name": "python"
    }
  },
  "cells": [
    {
      "cell_type": "markdown",
      "metadata": {
        "id": "view-in-github",
        "colab_type": "text"
      },
      "source": [
        "<a href=\"https://colab.research.google.com/github/Lencione/CC-UNIFAJ/blob/main/Aula04.ipynb\" target=\"_parent\"><img src=\"https://colab.research.google.com/assets/colab-badge.svg\" alt=\"Open In Colab\"/></a>"
      ]
    },
    {
      "cell_type": "markdown",
      "source": [
        "Exercicio 1"
      ],
      "metadata": {
        "id": "SCYXakQVolxF"
      }
    },
    {
      "cell_type": "code",
      "execution_count": null,
      "metadata": {
        "id": "dUdcvr_Cof28"
      },
      "outputs": [],
      "source": [
        "numbers = list()\n",
        "pair = 0\n",
        "unpaired = 0\n",
        "\n",
        "for i in range(10):\n",
        "    numbers.append(int(input())) \n",
        "\n",
        "for num in numbers:\n",
        "    if num % 2 == 0:\n",
        "        pair += 1\n",
        "    else:\n",
        "        unpaired += 1\n",
        "\n",
        "print(f\"Pares: {pair} - Impares: {unpaired}\")\n"
      ]
    },
    {
      "cell_type": "markdown",
      "source": [
        "Exercicio 2"
      ],
      "metadata": {
        "id": "UP1TQckAq91l"
      }
    },
    {
      "cell_type": "code",
      "source": [
        "qnt = int(input())\n",
        "avg = list()\n",
        "for i in range(qnt):\n",
        "    avg.append(float(input())) \n",
        "\n",
        "print(f\"{(sum(avg)/len(avg)):.2f}\")"
      ],
      "metadata": {
        "id": "CI1VSQBMrAdU"
      },
      "execution_count": null,
      "outputs": []
    },
    {
      "cell_type": "markdown",
      "source": [
        "Exercicio 3"
      ],
      "metadata": {
        "id": "AaBDos82tD73"
      }
    },
    {
      "cell_type": "code",
      "source": [
        "numbers = list()\n",
        "\n",
        "for i in range(10):\n",
        "    numbers.append(int(input()))\n",
        "\n",
        "print(max(numbers))"
      ],
      "metadata": {
        "id": "EWOkMm1BtNuO"
      },
      "execution_count": null,
      "outputs": []
    },
    {
      "cell_type": "markdown",
      "source": [
        "Exercicio 4"
      ],
      "metadata": {
        "id": "WowjHvQ7t6gn"
      }
    },
    {
      "cell_type": "code",
      "source": [
        "import math\n",
        "qnt = int(input())\n",
        "\n",
        "ages = list()\n",
        "for i  in range(qnt):\n",
        "    ages.append(int(input()))\n",
        "\n",
        "avg = sum(ages) / len(ages)\n",
        "if avg <= 25:\n",
        "    print(f\"Media de idade: {math.floor(avg):.0f}, Turma jovem\")\n",
        "elif avg > 25 and avg <= 60:\n",
        "    print(f\"Media de idade: {math.floor(avg):.0f}, Turma adulta\")\n",
        "else:\n",
        "    print(f\"Media de idade: {math.floor(avg):.0f}, Turma idosa\")\n"
      ],
      "metadata": {
        "id": "kV58uTCVt78u"
      },
      "execution_count": null,
      "outputs": []
    },
    {
      "cell_type": "markdown",
      "source": [
        "Exercicio 5"
      ],
      "metadata": {
        "id": "FAd3yFMUvRAG"
      }
    },
    {
      "cell_type": "code",
      "source": [
        "num = int(input())\n",
        "\n",
        "print(bin(num))"
      ],
      "metadata": {
        "id": "NOzw3ZItvSC-"
      },
      "execution_count": null,
      "outputs": []
    },
    {
      "cell_type": "markdown",
      "source": [
        "Exercicio 6"
      ],
      "metadata": {
        "id": "uynNlgfEwSS-"
      }
    },
    {
      "cell_type": "code",
      "source": [
        "avg = list()\n",
        "for i in range(5):\n",
        "    while (1):\n",
        "        num = float(input())\n",
        "        if num >= 0 and num <= 10:\n",
        "            avg.append(num)\n",
        "            break\n",
        "print(f\"Media: {(sum(avg)/len(avg)):.2f}\")\n",
        "\n",
        "    \n"
      ],
      "metadata": {
        "id": "irTlhjK8wR5u"
      },
      "execution_count": null,
      "outputs": []
    },
    {
      "cell_type": "markdown",
      "source": [
        "Exercicio 7"
      ],
      "metadata": {
        "id": "bcflsNGDxmcm"
      }
    },
    {
      "cell_type": "code",
      "source": [
        "num = float(input())\n",
        "result = list()\n",
        "result.append(num / 2) \n",
        "for i in range(1,10):\n",
        "    result.append( 0.5 * (result[i-1] + (num / result[i-1])) ) \n",
        "\n",
        "for index, x in enumerate(result):\n",
        "    print(f\"{index}:  {x}\")"
      ],
      "metadata": {
        "id": "IF9unwXX3Pm2"
      },
      "execution_count": null,
      "outputs": []
    }
  ]
}