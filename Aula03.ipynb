{
  "nbformat": 4,
  "nbformat_minor": 0,
  "metadata": {
    "colab": {
      "name": "Aula03.ipynb",
      "provenance": [],
      "collapsed_sections": [],
      "authorship_tag": "ABX9TyP9jSXyWjYjetJs6EJvQsnk",
      "include_colab_link": true
    },
    "kernelspec": {
      "name": "python3",
      "display_name": "Python 3"
    },
    "language_info": {
      "name": "python"
    }
  },
  "cells": [
    {
      "cell_type": "markdown",
      "metadata": {
        "id": "view-in-github",
        "colab_type": "text"
      },
      "source": [
        "<a href=\"https://colab.research.google.com/github/Lencione/CC-UNIFAJ/blob/main/Aula03.ipynb\" target=\"_parent\"><img src=\"https://colab.research.google.com/assets/colab-badge.svg\" alt=\"Open In Colab\"/></a>"
      ]
    },
    {
      "cell_type": "code",
      "execution_count": 2,
      "metadata": {
        "id": "cIFM7iIhwQdp",
        "colab": {
          "base_uri": "https://localhost:8080/"
        },
        "outputId": "3a6bcf29-dc73-4901-8d8a-87b0001ff668"
      },
      "outputs": [
        {
          "output_type": "stream",
          "name": "stdout",
          "text": [
            "Parabéns!\n"
          ]
        }
      ],
      "source": [
        "idade = 18\n",
        "if idade < 20:\n",
        "  print('Você é jovem!')\n"
      ]
    },
    {
      "cell_type": "code",
      "source": [
        "weight = float(input())\n",
        "exc = 0\n",
        "pay = 0\n",
        "if weight > 50.00:\n",
        "    exc = weight - 50\n",
        "    pay = exc * 4\n",
        "\n",
        "print(f'João pescou: {weight:.2f} - excedeu {exc:.2f} kgs - multa: {pay:.2f} R$ ')"
      ],
      "metadata": {
        "colab": {
          "base_uri": "https://localhost:8080/"
        },
        "id": "Cm1sBjouy1tE",
        "outputId": "dcaec57e-fb5b-4dff-d9ce-3490abb5e892"
      },
      "execution_count": 4,
      "outputs": [
        {
          "output_type": "stream",
          "name": "stdout",
          "text": [
            "51.5\n",
            "João pescou: 51.50 - excedeu 1.50 kgs - multa: 6.00 R$ \n"
          ]
        }
      ]
    },
    {
      "cell_type": "code",
      "source": [
        "salary = float(input())\n",
        "\n",
        "if salary <= 280:\n",
        "    bonus = 0.2\n",
        "elif salary > 280 and salary <= 700:\n",
        "    bonus = 0.15\n",
        "elif salary > 700 and salary <=1500:\n",
        "    bonus = 0.1\n",
        "else:\n",
        "    bonus = 0.05\n",
        "\n",
        "print(f'Salário: {salary:.2f}\\nPercentual: {bonus*100:.0f}%\\nAumento: {salary*bonus:.2f}\\nNovo Salário: {salary+(salary*bonus):.2f}')"
      ],
      "metadata": {
        "colab": {
          "base_uri": "https://localhost:8080/"
        },
        "id": "7kgusleO0fKs",
        "outputId": "fa829315-d12b-4129-9d7b-53b317d27a91"
      },
      "execution_count": 9,
      "outputs": [
        {
          "output_type": "stream",
          "name": "stdout",
          "text": [
            "705\n",
            "Salário: 705.00\n",
            "Percentual: 10%\n",
            "Aumento: 70.50\n",
            "Novo Salário: 775.50\n"
          ]
        }
      ]
    },
    {
      "cell_type": "code",
      "source": [
        "note1 = float(input())\n",
        "note2 = float(input())\n",
        "aprov = 'Aprovado'\n",
        "avg = (note1+note2)/2\n",
        "\n",
        "if avg >= 9:\n",
        "    conc = 'A'\n",
        "elif avg < 9 and avg >= 7.5:\n",
        "    conc = 'B'\n",
        "elif avg < 7.5 and avg >= 6:\n",
        "    conc = 'C'\n",
        "elif avg < 6 and avg >= 4:\n",
        "    conc = 'D'\n",
        "    aprov = 'Reprovado'\n",
        "else:\n",
        "    conc = 'E'\n",
        "    aprov = 'Reprovado'\n",
        "\n",
        "print(f'Nota 1: {note1:.2f} - Nota 2: {note2:.2f}\\nMédia: {avg:.2f} - Nota: {conc}\\n{aprov}')"
      ],
      "metadata": {
        "colab": {
          "base_uri": "https://localhost:8080/"
        },
        "id": "RKH_IeZC1-5H",
        "outputId": "3236fc48-35b8-4d32-9cf4-5682c21a3730"
      },
      "execution_count": 13,
      "outputs": [
        {
          "output_type": "stream",
          "name": "stdout",
          "text": [
            "7.5\n",
            "7.5\n",
            "Nota 1: 7.50 - Nota 2: 7.50\u0006nMédia: 7.50 - Nota: B\n",
            "Aprovado\n"
          ]
        }
      ]
    }
  ]
}