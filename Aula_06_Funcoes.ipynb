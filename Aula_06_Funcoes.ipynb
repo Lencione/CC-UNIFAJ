{
  "nbformat": 4,
  "nbformat_minor": 0,
  "metadata": {
    "colab": {
      "provenance": [],
      "collapsed_sections": [],
      "authorship_tag": "ABX9TyMX6S2Ll1X+mGVg2eKfK969",
      "include_colab_link": true
    },
    "kernelspec": {
      "name": "python3",
      "display_name": "Python 3"
    },
    "language_info": {
      "name": "python"
    }
  },
  "cells": [
    {
      "cell_type": "markdown",
      "metadata": {
        "id": "view-in-github",
        "colab_type": "text"
      },
      "source": [
        "<a href=\"https://colab.research.google.com/github/Lencione/CC-UNIFAJ/blob/main/Aula_06_Funcoes.ipynb\" target=\"_parent\"><img src=\"https://colab.research.google.com/assets/colab-badge.svg\" alt=\"Open In Colab\"/></a>"
      ]
    },
    {
      "cell_type": "markdown",
      "source": [
        "Exercicio 1\n",
        "\n",
        "• Faça uma função que receba uma string que representa uma data no\n",
        "formato “dd/mm/aaaa” e retorne uma string no formato “dd de\n",
        "mmmm de aaaa”, onde “mmmm” representa o nome de um Mês por\n",
        "extenso, por exemplo, se receber “10/12/2019” a função deve\n",
        "retornar “10 de dezembro de 2019”."
      ],
      "metadata": {
        "id": "5QmSfOo67OEm"
      }
    },
    {
      "cell_type": "code",
      "execution_count": null,
      "metadata": {
        "id": "2RAKrfYw7Gf5"
      },
      "outputs": [],
      "source": [
        "def printDate(datestr):\n",
        "    x = datestr.split(\"/\")\n",
        "    if x[1] == '1':\n",
        "        x[1] = 'Janeiro'\n",
        "    elif x[1] == '2':\n",
        "        x[1] = 'Fevereiro'\n",
        "    elif x[1] == '3':\n",
        "        x[1] = 'Março'\n",
        "    elif x[1] == '4':\n",
        "        x[1] = 'Abril'\n",
        "    elif x[1] == '5':\n",
        "        x[1] = 'Maio'\n",
        "    elif x[1] == '6':\n",
        "        x[1] = 'Junho'\n",
        "    elif x[1] == '7':\n",
        "        x[1] = 'Julho'\n",
        "    elif x[1] == '8':\n",
        "        x[1] = 'Agosto'\n",
        "    elif x[1] == '9':\n",
        "        x[1] = 'Setembro'\n",
        "    elif x[1] == '10':\n",
        "        x[1] = 'Outubro'\n",
        "    elif x[1] == '11':\n",
        "        x[1] = 'Novembro'\n",
        "    elif x[1] == '12':\n",
        "        x[1] = 'Dezembro'\n",
        "    else:\n",
        "        x[1] = \"Nenhum\"\n",
        "\n",
        "    return x\n",
        "\n",
        "datestr = printDate(\"10/11/2020\")\n",
        "print(datestr[0] + \" de \" + datestr[1] + \" de \" + datestr[2])"
      ]
    },
    {
      "cell_type": "markdown",
      "source": [
        "Exercicio 2\n",
        "\n",
        "Faça um programa com uma função chamada calculadora. A função\n",
        "deve receber 3 parametros, sendo os dois primeiros numéricos e o\n",
        "último um character que indica uma operação aritmética, por\n",
        "exemplo, ‘+’ indica adição, ‘-‘ indica subtração, ‘*’ indica produto. A\n",
        "função deve verificar a operação indicada, realizá-la e retornar o valor\n",
        "calculado.\n"
      ],
      "metadata": {
        "id": "DtgdHoPH-nuY"
      }
    },
    {
      "cell_type": "code",
      "source": [
        "def calculator(n1, n2, opr):\n",
        "    if opr == '+':\n",
        "        return n1 + n2\n",
        "    elif opr == '-':\n",
        "        return n1 - n2\n",
        "    elif opr == '*':\n",
        "        return n1 * n2\n",
        "    else:\n",
        "        return \"Invalid operation\"\n",
        "\n",
        "print( calculator( int(input(\"n1: \")),int(input(\"n2: \")),input(\"operador: \") ))"
      ],
      "metadata": {
        "id": "DTB5jL4S-oqn"
      },
      "execution_count": null,
      "outputs": []
    },
    {
      "cell_type": "markdown",
      "source": [
        "Exercicio 3\n",
        "\n",
        "Faça uma função que receba duas listas e retorne True se são iguais\n",
        "ou False caso contrário. Duas listas são iguais se possuem os mesmos\n",
        "valores e na mesma ordem."
      ],
      "metadata": {
        "id": "H__KjgQ-_oGz"
      }
    },
    {
      "cell_type": "code",
      "source": [
        "def cmpList(l1, l2):\n",
        "    if l1 == l2:\n",
        "        return True\n",
        "    else:\n",
        "        return False\n",
        "\n",
        "l1 = list([1,2,3,4,5])\n",
        "l2 = list([1,2,3,5,4])\n",
        "\n",
        "print(cmpList(l1,l2))"
      ],
      "metadata": {
        "id": "Wg6-3SdY_pVh"
      },
      "execution_count": null,
      "outputs": []
    },
    {
      "cell_type": "markdown",
      "source": [
        "Exercicio 4\n",
        "\n",
        "Foram anotadas, ou seja, carregadas numa lista, as idades e alturas de\n",
        "15 alunos. Faça uma função que receba esta lista e retorne a\n",
        "quantidade de alunos com idade maior ou igual a 13 anos, que possuam\n",
        "altura inferior à média de altura da turma."
      ],
      "metadata": {
        "id": "Q7NNf8XBAuYr"
      }
    },
    {
      "cell_type": "code",
      "source": [
        "def studentsMore13(students):\n",
        "    alt = 0\n",
        "    for stud in students:\n",
        "        alt = alt + stud[1]\n",
        "    avg = (alt / len(students)) / 100\n",
        "    smallStudents = list(filter(lambda stud: (stud[0] >= 13 and (stud[1]/100) < avg), students))\n",
        "    return smallStudents\n",
        "\n",
        "\n",
        "students = [\n",
        "    [13,191],\n",
        "    [14,175],\n",
        "    [13,154],\n",
        "    [12,138],\n",
        "    [11,188],\n",
        "    [11,200],\n",
        "    [10,145],\n",
        "    [15,157],\n",
        "    [16,168],\n",
        "    [10,172]]\n",
        "\n",
        "smallStudents = studentsMore13(students)\n",
        "print(len(smallStudents))\n"
      ],
      "metadata": {
        "id": "txc1WfTfAva7"
      },
      "execution_count": null,
      "outputs": []
    },
    {
      "cell_type": "markdown",
      "source": [
        "Exercício 5\n",
        "\n",
        "• Faça uma função que receba uma lista de números armazenados de\n",
        "forma crescente, e dois valores (limite inferior e limite superior), e\n",
        "retorne a sublista cujos elementos são maiores ou iguais ao limite\n",
        "inferior e menores ou iguais ao limite superior. O programa\n",
        "principal deve mostrar a sublista."
      ],
      "metadata": {
        "id": "OCHCkbleH4s9"
      }
    },
    {
      "cell_type": "code",
      "source": [
        "def limits(l1, limitdown, limittop):\n",
        "    newlist = list(filter(lambda n: (n >= limitdown and n <= limittop), l1))\n",
        "    return newlist\n",
        "\n",
        "list1 = list([1,2,3,4,5,6,7,8,9,10,11,12])\n",
        "\n",
        "print(limits(list1, 3, 8))"
      ],
      "metadata": {
        "id": "iQdfZO7RH7bl"
      },
      "execution_count": null,
      "outputs": []
    }
  ]
}