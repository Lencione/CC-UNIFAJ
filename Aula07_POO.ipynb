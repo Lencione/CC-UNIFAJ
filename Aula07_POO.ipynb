{
  "nbformat": 4,
  "nbformat_minor": 0,
  "metadata": {
    "colab": {
      "provenance": [],
      "authorship_tag": "ABX9TyO9sxE3kVdW6BlQj1YfmIxm",
      "include_colab_link": true
    },
    "kernelspec": {
      "name": "python3",
      "display_name": "Python 3"
    },
    "language_info": {
      "name": "python"
    }
  },
  "cells": [
    {
      "cell_type": "markdown",
      "metadata": {
        "id": "view-in-github",
        "colab_type": "text"
      },
      "source": [
        "<a href=\"https://colab.research.google.com/github/Lencione/CC-UNIFAJ/blob/main/Aula07_POO.ipynb\" target=\"_parent\"><img src=\"https://colab.research.google.com/assets/colab-badge.svg\" alt=\"Open In Colab\"/></a>"
      ]
    },
    {
      "cell_type": "markdown",
      "source": [
        "Exercício 1\n",
        "\n",
        "Implemente na classe Aluno, um método que retorna \"Aprovado\", se média do aluno for maior ou igual a 6.0, e \"Reprovado\", se menor que 6.0"
      ],
      "metadata": {
        "id": "jvxU4f6LM_H_"
      }
    },
    {
      "cell_type": "code",
      "execution_count": null,
      "metadata": {
        "id": "WSRFpEByM05R"
      },
      "outputs": [],
      "source": [
        "class Student:\n",
        "    def __init__(self, name, discipline, note1, note2):\n",
        "        self.name = name\n",
        "        self.discipline = discipline\n",
        "        self.note1 = note1\n",
        "        self.note2 = note2\n",
        "\n",
        "    def avg(self):\n",
        "        return ('Reprovado' if ((self.note1 + self.note2)/2 < 6) else 'Aprovado')\n",
        "\n",
        "student1 = Student(\"Wesley Lencione\", \"AOC\", 5,5)\n",
        "print(student1.avg())"
      ]
    },
    {
      "cell_type": "markdown",
      "source": [
        "Exercício 2\n",
        "Crie uma classe chamada Pedido para representar uma fatura de um item vendido em uma loja.\n",
        "Ela deve possuir um construtor que inicializa os atributos código do item, descriçao, valor unitario e quantidade. Se a quantidade não for positiva, ela deve ser configurada como 0. Se o preço por item não for positivo ele deve ser configurado como 0.\n",
        "A classe deve possuir um método chamado getTotalPedido que calcula o valor do pedido (isso é, multiplica a quantidade pelo preço por item) e depois retorna o valor.\n",
        "Escreva um programa principal que teste e demonstre a classe Pedido"
      ],
      "metadata": {
        "id": "cf4fwiiXQHx3"
      }
    },
    {
      "cell_type": "code",
      "source": [
        "class Order:\n",
        "    def __init__(self, id, description, value, quantity):\n",
        "        self.id = id\n",
        "        self.description = description\n",
        "        self.value = 0 if (value < 0) else value\n",
        "        self.quantity = 0 if (quantity < 0) else quantity\n",
        "\n",
        "    def getTotalValue(self):\n",
        "        return self.value * self.quantity\n",
        "\n",
        "order1 = Order(1, \"Computer\", -2, 5)\n",
        "print(f\"Order1: {order1.getTotalValue()}\")\n",
        "    \n",
        "order2 = Order(2, \"Computer\", -2, -2)\n",
        "print(f\"Order2: {order2.getTotalValue()}\")\n",
        "\n",
        "order3 = Order(2, \"Computer\", 100,2)\n",
        "print(f\"Order2: {order3.getTotalValue()}\")\n",
        "    \n"
      ],
      "metadata": {
        "id": "kM05IKbkQatA"
      },
      "execution_count": null,
      "outputs": []
    },
    {
      "cell_type": "markdown",
      "source": [
        "Exercicio 3\n",
        "A fim de representar empregados em uma firma, crie uma classe chamada Empregado que inclui as três informações a seguir como atributos:\n",
        "* Um primeiro nome\n",
        "* Um sobrenome\n",
        "* Salário mensal\n",
        "Sua classe deve ter um construtor que inicializa os três atributos. Se o salário mensal não for positivo, configure-o como 0.\n",
        "A classe deve possuir também um método ajustaSalario, que aumenta o salário de acordo com um percentual informado (passado como parâmetro para o método).\n",
        "Escreva um aplicativo de teste que demonstra as capacidades da classe. Crie duas instâncias da classe e exiba o salário anual de cada instância.\n",
        "Então dê a cada empregado um aumento de 10% e exiba novamente o salário anual de cada empregado.\n",
        "\n"
      ],
      "metadata": {
        "id": "l47L72XjSyng"
      }
    },
    {
      "cell_type": "code",
      "source": [
        "class Employee:\n",
        "    def __init__(self, name, lastname, salary):\n",
        "        self.name = name\n",
        "        self.lastname = lastname\n",
        "        self.salary = 0 if (salary < 0) else salary\n",
        "\n",
        "    def adjustSalary(self, increase):\n",
        "        self.salary = self.salary + (self.salary*increase/100)\n",
        "\n",
        "    def anualSalary(self):\n",
        "        return self.salary*12\n",
        "\n",
        "employee1 = Employee(\"Wesley\", \"Lencione\", 1000)\n",
        "print(employee1.anualSalary())\n",
        "\n",
        "employee2 = Employee(\"Lencione\", \"Wesley\", -1000)\n",
        "print(employee2.anualSalary())\n",
        "\n",
        "employee3 = Employee(\"Wesley Lencione\", \"Oliveira\", 1000)\n",
        "employee3.adjustSalary(20)\n",
        "print(employee3.anualSalary())"
      ],
      "metadata": {
        "id": "CC3XNRaqTlOx"
      },
      "execution_count": null,
      "outputs": []
    }
  ]
}