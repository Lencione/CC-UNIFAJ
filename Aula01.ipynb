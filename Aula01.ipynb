{
  "nbformat": 4,
  "nbformat_minor": 0,
  "metadata": {
    "colab": {
      "name": "Aula01.ipynb",
      "provenance": [],
      "authorship_tag": "ABX9TyP/A4cqoagZJ2+5LdRRx6nA",
      "include_colab_link": true
    },
    "kernelspec": {
      "name": "python3",
      "display_name": "Python 3"
    },
    "language_info": {
      "name": "python"
    }
  },
  "cells": [
    {
      "cell_type": "markdown",
      "metadata": {
        "id": "view-in-github",
        "colab_type": "text"
      },
      "source": [
        "<a href=\"https://colab.research.google.com/github/Lencione/CC-UNIFAJ/blob/main/Aula01.ipynb\" target=\"_parent\"><img src=\"https://colab.research.google.com/assets/colab-badge.svg\" alt=\"Open In Colab\"/></a>"
      ]
    },
    {
      "cell_type": "markdown",
      "source": [
        "Exercicio 1"
      ],
      "metadata": {
        "id": "nXPu4Kc5HUOU"
      }
    },
    {
      "cell_type": "code",
      "execution_count": null,
      "metadata": {
        "id": "XP44YVzhHSWe"
      },
      "outputs": [],
      "source": [
        "celcius = int(input())\n",
        "\n",
        "far = 1.8 * celcius + 32\n",
        "print(far)"
      ]
    },
    {
      "cell_type": "markdown",
      "source": [
        "Exercicio 2"
      ],
      "metadata": {
        "id": "4VPMIObZJlb2"
      }
    },
    {
      "cell_type": "code",
      "source": [
        "area = int(input())\n",
        "\n",
        "total = int((area / 18)/3)\n",
        "over = (area/3) % 18\n",
        "\n",
        "if over > 0:\n",
        "    total += 1\n",
        "\n",
        "print(f'Valor a pagar: R$ {total*80:.2f}')"
      ],
      "metadata": {
        "id": "p3pDrMiEJmW9"
      },
      "execution_count": null,
      "outputs": []
    },
    {
      "cell_type": "markdown",
      "source": [
        "Exercicio 3"
      ],
      "metadata": {
        "id": "A5xRu0SpKy93"
      }
    },
    {
      "cell_type": "code",
      "source": [
        "import math\n",
        "\n",
        "capital = float(input())\n",
        "rate = float(input())\n",
        "months = int(input())\n",
        "\n",
        "final = capital *  math.pow((1+rate/100),months)\n",
        "\n",
        "print(f'R$ {final:.2f}')"
      ],
      "metadata": {
        "id": "uEXn5GRYK0U3"
      },
      "execution_count": null,
      "outputs": []
    },
    {
      "cell_type": "markdown",
      "source": [
        "Exercicio 4"
      ],
      "metadata": {
        "id": "15hyLm4zNNcS"
      }
    },
    {
      "cell_type": "code",
      "source": [
        "cust = float(input())\n",
        "final = cust + (cust*0.45)\n",
        "final += (cust*0.28)\n",
        "print(f'R$ {final:.2f}')"
      ],
      "metadata": {
        "id": "7ByD6YDlNPBq"
      },
      "execution_count": null,
      "outputs": []
    },
    {
      "cell_type": "markdown",
      "source": [
        "Exercicio 5"
      ],
      "metadata": {
        "id": "0ycdKFGuOJML"
      }
    },
    {
      "cell_type": "code",
      "source": [
        "import math\n",
        "\n",
        "xa = int(input())\n",
        "ya = int(input())\n",
        "\n",
        "xb = int(input())\n",
        "yb = int(input())\n",
        "\n",
        "dist = math.sqrt(pow(xb-xa, 2) + pow(yb-ya, 2))\n",
        "print(dist)"
      ],
      "metadata": {
        "id": "c2Vc1dNxOKPb"
      },
      "execution_count": null,
      "outputs": []
    }
  ]
}