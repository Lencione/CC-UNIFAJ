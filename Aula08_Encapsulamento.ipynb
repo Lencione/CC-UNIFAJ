{
  "nbformat": 4,
  "nbformat_minor": 0,
  "metadata": {
    "colab": {
      "provenance": [],
      "collapsed_sections": [],
      "authorship_tag": "ABX9TyMXLvDT+UAn/k0rp5vKDkmq",
      "include_colab_link": true
    },
    "kernelspec": {
      "name": "python3",
      "display_name": "Python 3"
    },
    "language_info": {
      "name": "python"
    }
  },
  "cells": [
    {
      "cell_type": "markdown",
      "metadata": {
        "id": "view-in-github",
        "colab_type": "text"
      },
      "source": [
        "<a href=\"https://colab.research.google.com/github/Lencione/CC-UNIFAJ/blob/main/Aula08_Encapsulamento.ipynb\" target=\"_parent\"><img src=\"https://colab.research.google.com/assets/colab-badge.svg\" alt=\"Open In Colab\"/></a>"
      ]
    },
    {
      "cell_type": "markdown",
      "source": [
        "Exercício 1\n",
        "\n",
        "• Implemente uma classe Ponto contendo dois atributos: coordX e coordY,\n",
        "referente às coordenadas X e Y de um ponto no Plano Cartesiano. As\n",
        "coordenadas devem ser privadas\n",
        "• A classe deve possuir um construtor para inicializar as coordenadas do\n",
        "objeto Ponto que está sendo instanciado\n",
        "• A classe deve implementar os métodos getters/setter para os atributos\n",
        "da classe\n",
        "• A classe deve possuir um método público que recebe um objeto do tipo\n",
        "Ponto e retorna a distância até ele\n",
        "• Implementar o programa principal que testa todos os comportamentos\n",
        "da classe Ponto"
      ],
      "metadata": {
        "id": "1XwxeO1yQPD4"
      }
    },
    {
      "cell_type": "code",
      "execution_count": null,
      "metadata": {
        "id": "mXohGx-5QDNl"
      },
      "outputs": [],
      "source": [
        "import math\n",
        "\n",
        "class Point:\n",
        "    def __init__(self, coordX, coordY):\n",
        "        self.__coordX = coordX\n",
        "        self.__coordY = coordY\n",
        "\n",
        "    def getX(self):\n",
        "        return self.__coordX\n",
        "\n",
        "    def getY(self):\n",
        "        return self.__coordY\n",
        "    \n",
        "    def setX(self, coordX):\n",
        "        self.__coordX = coordX\n",
        "        \n",
        "    def setY(self, coordY):\n",
        "        self.__coordY = coordY\n",
        "\n",
        "    # (xB – xA)² + (yB – yA)².\n",
        "    def getDist(self, coord):\n",
        "        return math.sqrt(math.pow(coord.getX() - self.getX(), 2) + math.pow(coord.getY()-self.getY(), 2))\n",
        "\n",
        "coordinates = Point(0,0)\n",
        "coordinates2 = Point(5,3)\n",
        "print(coordinates.getX())\n",
        "print(coordinates.getY())\n",
        "coordinates.setX(5)\n",
        "coordinates.setY(5)\n",
        "print(coordinates.getX())\n",
        "print(coordinates.getY())\n",
        "print(coordinates.getDist(coordinates2))\n",
        "        "
      ]
    },
    {
      "cell_type": "markdown",
      "source": [
        "Exercício 2\n",
        "\n",
        "• Implementar uma classe Retângulo, contendo dois atributos privados:\n",
        "largura e altura\n",
        "• A classe deve possuir um construtor para inicializar a largura e a altura\n",
        "• A classe deve possuir os seguintes métodos privados: area(), para cálculo\n",
        "da área do retângulo e perimetro(), para o cálculo do perímetro do\n",
        "retângulo\n",
        "• A classe deve possuir também os seguintes métodos públicos:\n",
        "• mostraArea(), que retorna a string: “A área do retângulo é xx”, onde “xx” é a área\n",
        "calculada pelo método privado area()\n",
        "• mostraPerimetro(), que retorna a string “O perímetro do retângulo é xx”, onde\n",
        "“xx” é o perímetro calculado pelo método privado perimetro()\n",
        "\n",
        "• Implementar o programa principal que testa todos os comportamentos\n",
        "da classe Retângulo"
      ],
      "metadata": {
        "id": "D-a_Dr0_WNtL"
      }
    },
    {
      "cell_type": "code",
      "source": [
        "class Rectangle:\n",
        "    def __init__(self, width, height):\n",
        "        self.__width = width\n",
        "        self.__height = height\n",
        "    \n",
        "    def __area(self):\n",
        "        return self.__width * self.__height\n",
        "\n",
        "    def __perimeter(self):\n",
        "       return 2 * (self.__width + self.__height)\n",
        "\n",
        "    def getArea(self):\n",
        "        return self.__area()\n",
        "    \n",
        "    def getPerimeter(self):\n",
        "        return self.__perimeter()\n",
        "\n",
        "rect = Rectangle(7,8)\n",
        "print(f\"Area: {rect.getArea():.2f}\")\n",
        "print(f\"Perimetro: {rect.getPerimeter():.2f}\")"
      ],
      "metadata": {
        "colab": {
          "base_uri": "https://localhost:8080/"
        },
        "id": "VjB7qGNkWPcC",
        "outputId": "685a3749-99cc-4fa3-d768-597879c59932"
      },
      "execution_count": 14,
      "outputs": [
        {
          "output_type": "stream",
          "name": "stdout",
          "text": [
            "Area: 56.00\n",
            "Perimetro: 30.00\n"
          ]
        }
      ]
    }
  ]
}