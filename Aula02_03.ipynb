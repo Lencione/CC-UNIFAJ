{
  "nbformat": 4,
  "nbformat_minor": 0,
  "metadata": {
    "colab": {
      "name": "Aula02-03.ipynb",
      "provenance": [],
      "collapsed_sections": [],
      "authorship_tag": "ABX9TyOAa8kDINOOEhRUjAg3ezw5",
      "include_colab_link": true
    },
    "kernelspec": {
      "name": "python3",
      "display_name": "Python 3"
    },
    "language_info": {
      "name": "python"
    }
  },
  "cells": [
    {
      "cell_type": "markdown",
      "metadata": {
        "id": "view-in-github",
        "colab_type": "text"
      },
      "source": [
        "<a href=\"https://colab.research.google.com/github/Lencione/CC-UNIFAJ/blob/main/Aula02_03.ipynb\" target=\"_parent\"><img src=\"https://colab.research.google.com/assets/colab-badge.svg\" alt=\"Open In Colab\"/></a>"
      ]
    },
    {
      "cell_type": "markdown",
      "source": [
        "Exercício 1"
      ],
      "metadata": {
        "id": "7eNM-4bE86cD"
      }
    },
    {
      "cell_type": "code",
      "source": [
        "hours = float(input())\n",
        "total = hours * 19.5\n",
        "desc = 0\n",
        "if total > 2500:\n",
        "    desc = total * 0.25\n",
        "\n",
        "print(f'Salário: {total-desc:.2f}\\nDesconto: {desc:.2f}')"
      ],
      "metadata": {
        "id": "K4wGZ6H88_6S"
      },
      "execution_count": null,
      "outputs": []
    },
    {
      "cell_type": "markdown",
      "source": [
        "Exercício 2"
      ],
      "metadata": {
        "id": "jdrQmmvW97WU"
      }
    },
    {
      "cell_type": "code",
      "source": [
        "faults = int(input())\n",
        "avg = float(input())\n",
        "status = 'Aprovado'\n",
        "\n",
        "if faults > 40:\n",
        "    status = 'Reprovado'\n",
        "\n",
        "if avg < 6 and faults <= 40:\n",
        "    status = 'Recuperação'\n",
        "\n",
        "print(f'{status}')"
      ],
      "metadata": {
        "id": "OiyRrD3V99-k"
      },
      "execution_count": null,
      "outputs": []
    },
    {
      "cell_type": "markdown",
      "source": [
        "Exercício 3"
      ],
      "metadata": {
        "id": "p-bkx4SE_nhd"
      }
    },
    {
      "cell_type": "code",
      "source": [
        "plate = int(input())\n",
        "last = plate % 10\n",
        "if last == 1 or last == 2:\n",
        "    day = \"Segunda-Feira\"\n",
        "if last == 3 or last == 4:\n",
        "    day = \"Terça-Feira\"\n",
        "if last == 5 or last == 6:\n",
        "    day = \"Quarta-Feira\"\n",
        "if last == 7 or last == 8:\n",
        "    day = \"Quinta-Feira\"\n",
        "if last == 9 or last == 0:\n",
        "    day = \"Sexta-Feira\"\n",
        "print(day)"
      ],
      "metadata": {
        "id": "1o1Hgd5v_qst"
      },
      "execution_count": null,
      "outputs": []
    },
    {
      "cell_type": "markdown",
      "source": [
        "Exercício 4"
      ],
      "metadata": {
        "id": "A7pAb3v5Ahu1"
      }
    },
    {
      "cell_type": "code",
      "source": [
        "weight = float(input())\n",
        "exc = 0\n",
        "pay = 0\n",
        "if weight > 50.00:\n",
        "    exc = weight - 50\n",
        "    pay = exc * 4\n",
        "\n",
        "print(f'João pescou: {weight:.2f} - excedeu {exc:.2f} kgs - multa: {pay:.2f} R$ ')"
      ],
      "metadata": {
        "id": "Cm1sBjouy1tE"
      },
      "execution_count": null,
      "outputs": []
    },
    {
      "cell_type": "markdown",
      "source": [
        "Exercicio 5"
      ],
      "metadata": {
        "id": "uLhsb1vYAkLH"
      }
    },
    {
      "cell_type": "code",
      "source": [
        "salary = float(input())\n",
        "\n",
        "if salary <= 280:\n",
        "    bonus = 0.2\n",
        "elif salary > 280 and salary <= 700:\n",
        "    bonus = 0.15\n",
        "elif salary > 700 and salary <=1500:\n",
        "    bonus = 0.1\n",
        "else:\n",
        "    bonus = 0.05\n",
        "\n",
        "print(f'Salário: {salary:.2f}\\nPercentual: {bonus*100:.0f}%\\nAumento: {salary*bonus:.2f}\\nNovo Salário: {salary+(salary*bonus):.2f}')"
      ],
      "metadata": {
        "id": "7kgusleO0fKs"
      },
      "execution_count": null,
      "outputs": []
    },
    {
      "cell_type": "markdown",
      "source": [
        "Exercicio 6"
      ],
      "metadata": {
        "id": "ugTNPHDjAnft"
      }
    },
    {
      "cell_type": "code",
      "source": [
        "note1 = float(input())\n",
        "note2 = float(input())\n",
        "aprov = 'Aprovado'\n",
        "avg = (note1+note2)/2\n",
        "\n",
        "if avg >= 9:\n",
        "    conc = 'A'\n",
        "elif avg < 9 and avg >= 7.5:\n",
        "    conc = 'B'\n",
        "elif avg < 7.5 and avg >= 6:\n",
        "    conc = 'C'\n",
        "elif avg < 6 and avg >= 4:\n",
        "    conc = 'D'\n",
        "    aprov = 'Reprovado'\n",
        "else:\n",
        "    conc = 'E'\n",
        "    aprov = 'Reprovado'\n",
        "\n",
        "print(f'Nota 1: {note1:.2f} - Nota 2: {note2:.2f}\\nMédia: {avg:.2f} - Nota: {conc}\\n{aprov}')"
      ],
      "metadata": {
        "id": "RKH_IeZC1-5H"
      },
      "execution_count": null,
      "outputs": []
    },
    {
      "cell_type": "markdown",
      "source": [
        "Exercicio 7"
      ],
      "metadata": {
        "id": "r8yQDi3qAp31"
      }
    },
    {
      "cell_type": "code",
      "source": [
        "strawberrys = float(input())\n",
        "apples = float(input())\n",
        "\n",
        "price = [2.5, 1.8]\n",
        "if strawberrys > 5:\n",
        "    price[0] = 2.2\n",
        "\n",
        "if apples > 5:\n",
        "    price[1] = 1.5\n",
        "\n",
        "print(f'Morangos: {strawberrys * price[0]:.2f} - Maçãs: {apples * price[1]:.2f}\\nTotal: {(strawberrys * price[0]) + (apples * price[1])}')"
      ],
      "metadata": {
        "id": "NNHcxJEz69zK"
      },
      "execution_count": null,
      "outputs": []
    },
    {
      "cell_type": "markdown",
      "source": [
        "Exercicio 8"
      ],
      "metadata": {
        "id": "S6v_w4upAsql"
      }
    },
    {
      "cell_type": "code",
      "source": [
        "amount = int(input())\n",
        "\n",
        "c100 = int(amount/100)\n",
        "amount = amount % 100\n",
        "\n",
        "c50 = int(amount/50)\n",
        "amount %= 50\n",
        "\n",
        "c10 = int(amount/10)\n",
        "amount %= 10\n",
        "\n",
        "c5 = int(amount/5)\n",
        "amount %= 5\n",
        "\n",
        "c1 = int(amount/1)\n",
        "amount %= 1\n",
        "\n",
        "print(f'Notas de 100: {c100}\\nNotas de 50: {c50}\\nNotas de 10: {c10}\\nNotas de 5: {c5}\\nNotas de 1: {c1}\\n')\n"
      ],
      "metadata": {
        "id": "3tkTVnrmAuAN"
      },
      "execution_count": null,
      "outputs": []
    }
  ]
}